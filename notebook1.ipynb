{
  "nbformat": 4,
  "nbformat_minor": 0,
  "metadata": {
    "colab": {
      "provenance": [],
      "toc_visible": true,
      "include_colab_link": true
    },
    "kernelspec": {
      "name": "python3",
      "display_name": "Python 3"
    },
    "language_info": {
      "name": "python"
    }
  },
  "cells": [
    {
      "cell_type": "markdown",
      "metadata": {
        "id": "view-in-github",
        "colab_type": "text"
      },
      "source": [
        "<a href=\"https://colab.research.google.com/github/ruang-belajar/notebook-1-ikmal1411/blob/main/notebook1.ipynb\" target=\"_parent\"><img src=\"https://colab.research.google.com/assets/colab-badge.svg\" alt=\"Open In Colab\"/></a>"
      ]
    },
    {
      "cell_type": "markdown",
      "source": [
        "7. Filter data laporan kebakaran Rumah Tinggal yang disebabkan oleh Listrik\n"
      ],
      "metadata": {
        "id": "zeNxiVYy-428"
      }
    },
    {
      "cell_type": "code",
      "source": [
        "filtered_data = df[df['bulan'].between(3, 7)]\n",
        "display(filtered_data)"
      ],
      "metadata": {
        "id": "uxI5Qpr7_LdP"
      },
      "execution_count": null,
      "outputs": []
    },
    {
      "cell_type": "markdown",
      "source": [
        "6.Filter data laporan kebakaran selama dari Maret sampai Juli 2022"
      ],
      "metadata": {
        "id": "An2RMf40-s1v"
      }
    },
    {
      "cell_type": "code",
      "source": [
        "filtered_data = df[df['bulan'].between(3, 7)]\n",
        "display(filtered_data)"
      ],
      "metadata": {
        "id": "eocDc8XX-zYC"
      },
      "execution_count": null,
      "outputs": []
    },
    {
      "cell_type": "markdown",
      "source": [
        "5.Filter data laporan kebakaran selama dari Maret sampai Juli 2022"
      ],
      "metadata": {
        "id": "czbLZl1u-gAv"
      }
    },
    {
      "cell_type": "code",
      "source": [
        "filtered_data = df[df['bulan'].between(3, 7)]\n",
        "display(filtered_data)\n"
      ],
      "metadata": {
        "id": "EMGna3bJ-nnP"
      },
      "execution_count": null,
      "outputs": []
    },
    {
      "cell_type": "markdown",
      "source": [
        "4.Filter data laporan kebakaran selama semester 2 tahun 2022"
      ],
      "metadata": {
        "id": "AJYl3k0X-AKa"
      }
    },
    {
      "cell_type": "code",
      "source": [
        "filtered_data = df[df['bulan'].between(7, 12)]\n",
        "display(filtered_data)"
      ],
      "metadata": {
        "id": "_z7Zch4g99An"
      },
      "execution_count": null,
      "outputs": []
    },
    {
      "cell_type": "markdown",
      "source": [
        "# [judul]\n",
        "* Nama :ikmal ramadhani ar rasyid\n",
        "* NIM : 22020014"
      ],
      "metadata": {
        "id": "SOTwCKLPjXe4"
      }
    },
    {
      "cell_type": "markdown",
      "source": [
        "3.Filter data laporan kebakaran dengan nilai kerugian lebih dari 100juta"
      ],
      "metadata": {
        "id": "0XoItODA9rM3"
      }
    },
    {
      "cell_type": "code",
      "source": [
        "filtered_data = df[df['kerugian'] > 100000000]\n",
        "display(filtered_data)"
      ],
      "metadata": {
        "id": "MlDcF0HJ907S"
      },
      "execution_count": null,
      "outputs": []
    },
    {
      "cell_type": "markdown",
      "source": [
        "2.Filter data laporan kebakaran yang sumber informasinya dari Masyarakat di bulan Februari"
      ],
      "metadata": {
        "id": "rOgXQsDM9L1U"
      }
    },
    {
      "cell_type": "code",
      "source": [
        "filtered_data = df[(df['sumber_info'] == 'Masyarakat') & (df['bulan'] == 2)]\n",
        "display(filtered_data)"
      ],
      "metadata": {
        "id": "QPS0EEr19ZQt"
      },
      "execution_count": null,
      "outputs": []
    },
    {
      "cell_type": "code",
      "execution_count": null,
      "metadata": {
        "id": "MFCMGmiLjN-4"
      },
      "outputs": [],
      "source": [
        "\n",
        "# PERSIAPAN DATA\n",
        "\n",
        "# download file contoh csv\n",
        "!wget https://raw.githubusercontent.com/ruang-belajar/python/master/notebook/data/2013-data-kebakaran.csv -O data-kebakaran.csv\n",
        "\n",
        "\n",
        "import pandas as pd\n",
        "\n",
        "# load data ke dataframe (df)\n",
        "df = pd.read_csv(\"data-kebakaran.csv\")\n",
        "df.head()\n"
      ]
    },
    {
      "cell_type": "markdown",
      "source": [
        "1.Filter data laporan kebakaran yang sumber informasinya dari Masyarakat"
      ],
      "metadata": {
        "id": "YPShjJYG8A2W"
      }
    },
    {
      "cell_type": "markdown",
      "source": [],
      "metadata": {
        "id": "54KHmEHD9F_O"
      }
    },
    {
      "cell_type": "code",
      "source": [
        "filtered_data = df[df['sumber_info'] == 'Masyarakat']\n",
        "display(filtered_data)\n"
      ],
      "metadata": {
        "id": "SC5jjAQ58NqJ"
      },
      "execution_count": null,
      "outputs": []
    }
  ]
}